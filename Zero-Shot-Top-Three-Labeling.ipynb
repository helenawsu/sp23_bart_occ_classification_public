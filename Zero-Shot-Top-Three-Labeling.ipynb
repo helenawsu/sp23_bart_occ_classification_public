{
 "cells": [
  {
   "attachments": {},
   "cell_type": "markdown",
   "metadata": {},
   "source": [
    "# Zero-Shot Top Three Labeling"
   ]
  },
  {
   "attachments": {},
   "cell_type": "markdown",
   "metadata": {},
   "source": [
    "Summary: In brief, our process involves utilizing log entries, label titles, and descriptions to perform zero-shot classification. We use a BERT language model to convert the log entries and label descriptions into embeddings, which we then compare using cosine similarity. The three labels with the highest similarity to each log entry are identified and recorded in the result.csv file for future reference. At the end of the notebook, there is a \"label analysis\" section where we created 3D scatter plot and heatmaps of label descriptions."
   ]
  },
  {
   "attachments": {},
   "cell_type": "markdown",
   "metadata": {},
   "source": [
    "### Import necessary packages and files"
   ]
  },
  {
   "cell_type": "code",
   "execution_count": 1,
   "metadata": {},
   "outputs": [
    {
     "name": "stderr",
     "output_type": "stream",
     "text": [
      "/Users/helena/opt/miniconda3/envs/occ_journal/lib/python3.10/site-packages/tqdm/auto.py:22: TqdmWarning: IProgress not found. Please update jupyter and ipywidgets. See https://ipywidgets.readthedocs.io/en/stable/user_install.html\n",
      "  from .autonotebook import tqdm as notebook_tqdm\n",
      "2023-05-04 10:04:52.015991: I tensorflow/core/platform/cpu_feature_guard.cc:193] This TensorFlow binary is optimized with oneAPI Deep Neural Network Library (oneDNN) to use the following CPU instructions in performance-critical operations:  SSE4.1 SSE4.2 AVX AVX2 AVX512F AVX512_VNNI FMA\n",
      "To enable them in other operations, rebuild TensorFlow with the appropriate compiler flags.\n"
     ]
    }
   ],
   "source": [
    "import json\n",
    "import torch\n",
    "import numpy as np\n",
    "from pathlib import Path\n",
    "from collections import defaultdict, Counter\n",
    "from pprint import pprint\n",
    "from sklearn.metrics import precision_recall_fscore_support\n",
    "from sentence_transformers import SentenceTransformer, util\n",
    "import pandas as pd\n"
   ]
  },
  {
   "cell_type": "code",
   "execution_count": 2,
   "metadata": {},
   "outputs": [],
   "source": [
    "occ_logs_file_path = (\"occ-logs-2022-11-01-12-31.csv\")\n",
    "#model = SentenceTransformer(\"paraphrase-mpnet-base-v2\", device=\"cpu\")\n",
    "model = SentenceTransformer(\"tsdae-model\") # use the model in the folder"
   ]
  },
  {
   "cell_type": "code",
   "execution_count": 3,
   "metadata": {},
   "outputs": [],
   "source": [
    "label_description = {\n",
    "\"TRAPPED IN ELEVATOR\":\t'The \"TRAPPED IN ELEVATOR\" category under \"QUARTERLY INCIDENT AND OCCURRENCE REPORT\" covers incidents related to elevator malfunctions or entrapments, which may impact passenger safety. These events involve passengers getting stuck in elevators at various station locations, such as platforms, parking garages, or transit areas. These incidents are reported when Station Agents, elevator technicians, or the fire department are called to respond and extricate the trapped individuals.',\n",
    "\"VANDALISM\":\t'The \"VANDALISM\" category under \"QUARTERLY INCIDENT AND OCCURRENCE REPORT\" covers incidents involving the misuse or discharge of fire extinguishers, or vandalism to fire extinguishers or hose cabinets within the transit system. Examples include fire extinguishers being discharged in stations, facilities, or inside trains.',\n",
    "\"FIRE\":\t'The \"FIRE\" category under \"QUARTERLY INCIDENT AND OCCURRENCE REPORT\" events at BART encompasses incidents involving fires or related hazards which may affect the operation of the transit system or the safety of patrons or BART personnel. Examples include fires in BART equipment, stations, facilities, or along the right-of-way. Fires appearing to have originated from activities occurring in a homeless encampment will be categorized as \"HENC\". The \"FIRE\" reporting threshold will be considered a fire that requires suppression by BART personnel or the fire department.',\n",
    "\"EVACUATION\":\t'The \"FLS EVACUATION\" category under \"QUARTERLY INCIDENT AND OCCURRENCE REPORT\" at BART refers to events that necessitate the evacuation of stations, trains, or other BART facilities. Examples may include instances of derailment, mechanical failure, smoke, fire, arson, hazardous materials leaks, fires on trains or nearby structures, or other safety concernts that require evacuation as a precautionary measure.',\n",
    "\"HENC\":\t'The \"HENC (Homeless Encampment)\" category under \"QUARTERLY INCIDENT AND OCCURRENCE REPORT\" at BART encompasses events related to fires or other safety hazards originating from activities occurring in homeless encampments near BART facilities or tracks. These incidents may include fires, smoke, or other dangerous situations that can impact the safety of BART patrons, personnel, or the operation of the transit system.',\n",
    "\"SMOKE\":\t'The \"SMOKE\" category under \"QUARTERLY INCIDENT AND OCCURRENCE REPORT\" at BART includes events involving smoke sightings or incidents related to smoke near or within BART facilities, tracks, or trains which may affect the operation of the transit system or the safety of patrons or BART personnel. These events may be caused by various factors, such as fires, electrical or mechanical issues, or debris in the trackway.',\n",
    "\"CSE\":\t'The \"CSE (Computer System Engineering)\" category for BART delays encompasses issues related to the communication and control systems that govern the operations of the transit network. This includes disruptions in the Integrated Control System (ICS) and Field Interface Process (FIP) communication link, which may occur during specific time intervals (e.g., 1000-1130), as well as problems with the ICS and Supervisory Control and Data Acquisition (SCADA) communication. These delays arise from technical complications within the computer systems that manage and regulate BART infrastructure, impacting the overall efficiency and timeliness of the transit system.',\n",
    "\"Operation\":\t'The \"Operation\" category for BART delays involves issues that stem from personnel, procedures, and management-related factors affecting the performance of the transit system. This includes delays due to staffing shortages, train operators making their own turns, and train management zone procedures. Additionally, delays may arise from train operators falling ill, following specific procedures such as auxiliary power off, circuit breaker trips, late boarding, or accidentally opening doors on the wrong side of the train. These operational delays impact the efficiency and punctuality of the BART system, as they are primarily related to the human and procedural aspects of the transit network.',\n",
    "\"Police\":\t'The \"Police\" category for BART delays pertains to incidents that require intervention or investigation by the BART Police Department (BPD) and subsequently impact the operations of the transit system These delays may result from BPD conducting sweeps or fare inspections, as well as holding trains due to various situations on or near the platforms. Examples of such situations include fights, smoking, intoxication, disorderly conduct, disturbances, drug use, theft, assault, battery, suspicious activity, or welfare checks. BPD may also be involved in searching for suspects, dealing with animals, or responding to incidents involving weapons or lewd acts. These police-related delays can disrupt the normal flow of the BART system, causing delays as officers work to ensure the safety and security of passengers and staff.',\n",
    "\"Track\":\t'The \"Track\" category for BART delays refers to issues with the physical infrastructure of the rail system that can lead to disruptions in service. One example of such a delay cause is rail kinks, which occur when the track warps or bends, potentially compromising the safety and smooth operation of the trains. These track-related delays impact the overall performance of the BART system as they require inspection, repair, or maintenance to ensure the reliability and safety of the rail network.',\n",
    "\"Train Control\":\t'The \"Train Control\" category for BART delays involves issues related to the systems that manage and regulate train movement and coordination. Examples of delay causes within this category include false occupancy, which occurs when the control system mistakenly detects the presence of a train on a section of track, and routing problems, which can arise from issues with the geolocation system. These train control-related delays impact the overall efficiency and safety of the BART system, as they can cause disruptions to train scheduling, coordination, and navigation, requiring prompt resolution to restore smooth operations.',\n",
    "\"Traction Power\":\t'The \"Traction Power\" category for BART delays pertains to issues with the electrical systems responsible for powering the trains. This includes problems such as loose third rail cover boards, which may require manual operation or removal, and disruptions to the third rail power supply. Delays within this category impact the overall functionality and reliability of the BART system, as they can cause trains to lose power or operate inefficiently. Addressing traction power issues is crucial to maintaining the safety and performance of the transit network.',\n",
    "\"Vehicle\":\t'The \"Vehicle\" category for BART delays encompasses issues related to the trains and their various components, which can impact the performance and reliability of the transit system. Causes for delays in this category include propulsion problems, door malfunctions, inverter issues, car shortages, and complications with the Automatic Train Operations (ATO) system. Other delay factors may involve brake issues, late dispatches, communication problems that require resetting, or disabled trains within the yard. These vehicle-related delays can significantly affect the efficiency of BART system , as they require inspection, repair, or maintenance to ensure the safe and smooth operation of the trains.'\n",
    "}"
   ]
  },
  {
   "cell_type": "markdown",
   "metadata": {},
   "source": [
    "## Fine Tune Model"
   ]
  },
  {
   "attachments": {},
   "cell_type": "markdown",
   "metadata": {},
   "source": [
    "make sentences pairs [label_description, entry] for fine tune "
   ]
  },
  {
   "cell_type": "code",
   "execution_count": 6,
   "metadata": {},
   "outputs": [],
   "source": [
    "from sklearn.model_selection import train_test_split\n",
    "labeled_data = pd.read_csv(\"labeled_data.csv\")\n",
    "train_set, test_set = train_test_split(labeled_data, test_size=0.2)\n",
    "labels = (labeled_data.CATEGORY.unique())\n",
    "df1 = labeled_data.groupby('CATEGORY')\n",
    "input = []\n",
    "for i in labels:\n",
    "    for j in df1.get_group(i)['ENTRY']:\n",
    "        input.append([label_description[str(i.upper())], j])"
   ]
  },
  {
   "attachments": {},
   "cell_type": "markdown",
   "metadata": {},
   "source": [
    "fine tune model with similar logs (entry and label_description) grouped together, with an arbitrary similarity score of 0.9"
   ]
  },
  {
   "cell_type": "code",
   "execution_count": 8,
   "metadata": {},
   "outputs": [],
   "source": [
    "from sentence_transformers import SentenceTransformer, losses, InputExample\n",
    "from torch.utils.data import DataLoader\n",
    "train_examples = []\n",
    "for i in input:\n",
    "    train_examples.append(InputExample(texts = i, label = 0.9)) # can try out different values, like 1.0\n",
    "train_dataloader = DataLoader(train_examples, shuffle=True, batch_size=32)\n",
    "train_loss = losses.CosineSimilarityLoss(model=model)"
   ]
  },
  {
   "cell_type": "code",
   "execution_count": 9,
   "metadata": {},
   "outputs": [
    {
     "name": "stderr",
     "output_type": "stream",
     "text": [
      "Iteration: 100%|██████████| 3/3 [00:09<00:00,  3.06s/it]\n",
      "Iteration: 100%|██████████| 3/3 [00:08<00:00,  2.99s/it]\n",
      "Iteration: 100%|██████████| 3/3 [00:08<00:00,  2.89s/it]\n",
      "Epoch: 100%|██████████| 3/3 [00:26<00:00,  8.96s/it]\n"
     ]
    }
   ],
   "source": [
    "model.fit(train_objectives=[(train_dataloader, train_loss)], epochs=3, warmup_steps=100)"
   ]
  },
  {
   "attachments": {},
   "cell_type": "markdown",
   "metadata": {},
   "source": [
    "## Zero-Shot Classification\n",
    "\n",
    "The previous Zero-Shot Classification has been adjusted to support tagging where train logs are \"tagged\" with the top 3 most similar categories based on vector cosine similarity. "
   ]
  },
  {
   "cell_type": "code",
   "execution_count": 64,
   "metadata": {},
   "outputs": [],
   "source": [
    "class ZeroShotClassifier:\n",
    "\n",
    "    def __init__(self, model=None):\n",
    "        self.model = model\n",
    "        self.labels = []\n",
    "        self.label_embeddings = None\n",
    "        self.scores = []\n",
    "\n",
    "    def train(self, labels, descriptions):\n",
    "        self.labels = labels\n",
    "        self.label_embeddings = model.encode(descriptions)\n",
    "\n",
    "    def predict(self, input_texts=None, input_embeddings=None, output_scores=False):\n",
    "\n",
    "        if input_embeddings is None:\n",
    "            input_embeddings = self.model.encode(input_texts)\n",
    "\n",
    "        S = util.pytorch_cos_sim(input_embeddings, self.label_embeddings)\n",
    "\n",
    "        predicted_labels = []\n",
    "        predicted_scores = []\n",
    "\n",
    "        for i in range(input_embeddings.shape[0]):   \n",
    "            label_scores = S[i].tolist()\n",
    "            scored = sorted(\n",
    "                zip(self.labels, label_scores),\n",
    "                key=lambda x: x[1],\n",
    "                reverse=True\n",
    "            )\n",
    "\n",
    "            pred = [scored[0][0], scored[1][0], scored[2][0]]\n",
    "            score = [round(scored[0][1], 2), round(scored[1][1], 2), round(scored[2][1], 2)]\n",
    "\n",
    "\n",
    "            predicted_scores.append(scored)\n",
    "            predicted_labels.append(pred)\n",
    "            self.scores.append((score))\n",
    "\n",
    "        if output_scores:\n",
    "            return predicted_labels, predicted_scores\n",
    "        else:\n",
    "            return predicted_labels"
   ]
  },
  {
   "attachments": {},
   "cell_type": "markdown",
   "metadata": {},
   "source": [
    "### Run classifier and get predictions\n",
    "\n",
    "The following cell runs Zero-Shot Classification for the FLS data with both labels and descriptions for Delay and Fire Life Safety categories. "
   ]
  },
  {
   "cell_type": "code",
   "execution_count": 66,
   "metadata": {},
   "outputs": [],
   "source": [
    "\n",
    "my_classifier = ZeroShotClassifier(\n",
    "    model=model,\n",
    ")\n",
    "\n",
    "my_classifier.train(\n",
    "    labels=label_description.keys(),\n",
    "    descriptions=list(label_description.values())\n",
    ")\n",
    "\n",
    "pred = my_classifier.predict(\n",
    "    test_set['ENTRY'].tolist()\n",
    ")"
   ]
  },
  {
   "attachments": {},
   "cell_type": "markdown",
   "metadata": {},
   "source": [
    "Format data and save prediction in results.csv, which contains entry, top three labels, similarity score for each label."
   ]
  },
  {
   "cell_type": "code",
   "execution_count": 67,
   "metadata": {},
   "outputs": [],
   "source": [
    "\n",
    "test_set['Pred'] = pred\n",
    "test_set['Total Scores'] = my_classifier.scores\n",
    "test_set = test_set.sort_values(by=[\"Pred\"], ascending=True)\n",
    "test_set.to_csv(\"testset_after_fine_tune_09.csv\")"
   ]
  },
  {
   "attachments": {},
   "cell_type": "markdown",
   "metadata": {},
   "source": [
    "## Label Analysis"
   ]
  },
  {
   "cell_type": "code",
   "execution_count": 8,
   "metadata": {},
   "outputs": [
    {
     "data": {
      "application/vnd.plotly.v1+json": {
       "config": {
        "plotlyServerURL": "https://plot.ly"
       },
       "data": [
        {
         "hovertemplate": "label=TRAPPED IN ELEVATOR<br>type=FLS<br>x=%{x}<br>y=%{y}<br>z=%{z}<extra></extra>",
         "legendgroup": "TRAPPED IN ELEVATOR, FLS",
         "marker": {
          "color": "#636efa",
          "symbol": "circle"
         },
         "mode": "markers",
         "name": "TRAPPED IN ELEVATOR, FLS",
         "scene": "scene",
         "showlegend": true,
         "type": "scatter3d",
         "x": [
          0.9292888641357422
         ],
         "y": [
          2.3294801712036133
         ],
         "z": [
          -0.01661870814859867
         ]
        },
        {
         "hovertemplate": "label=VANDALISM:<br>type=FLS<br>x=%{x}<br>y=%{y}<br>z=%{z}<extra></extra>",
         "legendgroup": "VANDALISM:, FLS",
         "marker": {
          "color": "#EF553B",
          "symbol": "circle"
         },
         "mode": "markers",
         "name": "VANDALISM:, FLS",
         "scene": "scene",
         "showlegend": true,
         "type": "scatter3d",
         "x": [
          1.654865026473999
         ],
         "y": [
          -0.03589455783367157
         ],
         "z": [
          1.4620614051818848
         ]
        },
        {
         "hovertemplate": "label=FIRE<br>type=FLS<br>x=%{x}<br>y=%{y}<br>z=%{z}<extra></extra>",
         "legendgroup": "FIRE, FLS",
         "marker": {
          "color": "#00cc96",
          "symbol": "circle"
         },
         "mode": "markers",
         "name": "FIRE, FLS",
         "scene": "scene",
         "showlegend": true,
         "type": "scatter3d",
         "x": [
          1.5904219150543213
         ],
         "y": [
          -0.7293310165405273
         ],
         "z": [
          -0.15699365735054016
         ]
        },
        {
         "hovertemplate": "label=EVACUATION<br>type=FLS<br>x=%{x}<br>y=%{y}<br>z=%{z}<extra></extra>",
         "legendgroup": "EVACUATION, FLS",
         "marker": {
          "color": "#ab63fa",
          "symbol": "circle"
         },
         "mode": "markers",
         "name": "EVACUATION, FLS",
         "scene": "scene",
         "showlegend": true,
         "type": "scatter3d",
         "x": [
          1.1264278888702393
         ],
         "y": [
          0.048035066574811935
         ],
         "z": [
          -1.206502079963684
         ]
        },
        {
         "hovertemplate": "label=HENC<br>type=FLS<br>x=%{x}<br>y=%{y}<br>z=%{z}<extra></extra>",
         "legendgroup": "HENC, FLS",
         "marker": {
          "color": "#FFA15A",
          "symbol": "circle"
         },
         "mode": "markers",
         "name": "HENC, FLS",
         "scene": "scene",
         "showlegend": true,
         "type": "scatter3d",
         "x": [
          1.4671415090560913
         ],
         "y": [
          -0.4328935742378235
         ],
         "z": [
          -0.3978247344493866
         ]
        },
        {
         "hovertemplate": "label=SMOKE<br>type=FLS<br>x=%{x}<br>y=%{y}<br>z=%{z}<extra></extra>",
         "legendgroup": "SMOKE, FLS",
         "marker": {
          "color": "#19d3f3",
          "symbol": "circle"
         },
         "mode": "markers",
         "name": "SMOKE, FLS",
         "scene": "scene",
         "showlegend": true,
         "type": "scatter3d",
         "x": [
          1.1581233739852905
         ],
         "y": [
          -0.7037037014961243
         ],
         "z": [
          -0.01592634804546833
         ]
        },
        {
         "hovertemplate": "label=CSE<br>type=Delay Management<br>x=%{x}<br>y=%{y}<br>z=%{z}<extra></extra>",
         "legendgroup": "CSE, Delay Management",
         "marker": {
          "color": "#FF6692",
          "symbol": "diamond"
         },
         "mode": "markers",
         "name": "CSE, Delay Management",
         "scene": "scene",
         "showlegend": true,
         "type": "scatter3d",
         "x": [
          -1.090024471282959
         ],
         "y": [
          -0.025497552007436752
         ],
         "z": [
          -0.31725484132766724
         ]
        },
        {
         "hovertemplate": "label=Operation<br>type=Delay Management<br>x=%{x}<br>y=%{y}<br>z=%{z}<extra></extra>",
         "legendgroup": "Operation, Delay Management",
         "marker": {
          "color": "#B6E880",
          "symbol": "diamond"
         },
         "mode": "markers",
         "name": "Operation, Delay Management",
         "scene": "scene",
         "showlegend": true,
         "type": "scatter3d",
         "x": [
          -1.0209476947784424
         ],
         "y": [
          -0.18720002472400665
         ],
         "z": [
          -0.32510513067245483
         ]
        },
        {
         "hovertemplate": "label=Police<br>type=Delay Management<br>x=%{x}<br>y=%{y}<br>z=%{z}<extra></extra>",
         "legendgroup": "Police, Delay Management",
         "marker": {
          "color": "#FF97FF",
          "symbol": "diamond"
         },
         "mode": "markers",
         "name": "Police, Delay Management",
         "scene": "scene",
         "showlegend": true,
         "type": "scatter3d",
         "x": [
          -0.7834120392799377
         ],
         "y": [
          -0.2134474813938141
         ],
         "z": [
          0.7405142784118652
         ]
        },
        {
         "hovertemplate": "label=Track<br>type=Delay Management<br>x=%{x}<br>y=%{y}<br>z=%{z}<extra></extra>",
         "legendgroup": "Track, Delay Management",
         "marker": {
          "color": "#FECB52",
          "symbol": "diamond"
         },
         "mode": "markers",
         "name": "Track, Delay Management",
         "scene": "scene",
         "showlegend": true,
         "type": "scatter3d",
         "x": [
          -1.2728816270828247
         ],
         "y": [
          -0.3174227774143219
         ],
         "z": [
          0.16150261461734772
         ]
        },
        {
         "hovertemplate": "label=Train Control<br>type=Delay Management<br>x=%{x}<br>y=%{y}<br>z=%{z}<extra></extra>",
         "legendgroup": "Train Control, Delay Management",
         "marker": {
          "color": "#636efa",
          "symbol": "diamond"
         },
         "mode": "markers",
         "name": "Train Control, Delay Management",
         "scene": "scene",
         "showlegend": true,
         "type": "scatter3d",
         "x": [
          -1.2029109001159668
         ],
         "y": [
          0.14854523539543152
         ],
         "z": [
          0.03646015748381615
         ]
        },
        {
         "hovertemplate": "label=Traction Power<br>type=Delay Management<br>x=%{x}<br>y=%{y}<br>z=%{z}<extra></extra>",
         "legendgroup": "Traction Power, Delay Management",
         "marker": {
          "color": "#EF553B",
          "symbol": "diamond"
         },
         "mode": "markers",
         "name": "Traction Power, Delay Management",
         "scene": "scene",
         "showlegend": true,
         "type": "scatter3d",
         "x": [
          -1.311339259147644
         ],
         "y": [
          0.185990571975708
         ],
         "z": [
          -0.045265454798936844
         ]
        },
        {
         "hovertemplate": "label=Vehicle<br>type=Delay Management<br>x=%{x}<br>y=%{y}<br>z=%{z}<extra></extra>",
         "legendgroup": "Vehicle, Delay Management",
         "marker": {
          "color": "#00cc96",
          "symbol": "diamond"
         },
         "mode": "markers",
         "name": "Vehicle, Delay Management",
         "scene": "scene",
         "showlegend": true,
         "type": "scatter3d",
         "x": [
          -1.2447500228881836
         ],
         "y": [
          -0.06666091829538345
         ],
         "z": [
          0.08095232397317886
         ]
        }
       ],
       "layout": {
        "legend": {
         "title": {
          "text": "label, type"
         },
         "tracegroupgap": 0
        },
        "margin": {
         "t": 60
        },
        "scene": {
         "domain": {
          "x": [
           0,
           1
          ],
          "y": [
           0,
           1
          ]
         },
         "xaxis": {
          "title": {
           "text": "x"
          }
         },
         "yaxis": {
          "title": {
           "text": "y"
          }
         },
         "zaxis": {
          "title": {
           "text": "z"
          }
         }
        },
        "template": {
         "data": {
          "bar": [
           {
            "error_x": {
             "color": "#2a3f5f"
            },
            "error_y": {
             "color": "#2a3f5f"
            },
            "marker": {
             "line": {
              "color": "#E5ECF6",
              "width": 0.5
             },
             "pattern": {
              "fillmode": "overlay",
              "size": 10,
              "solidity": 0.2
             }
            },
            "type": "bar"
           }
          ],
          "barpolar": [
           {
            "marker": {
             "line": {
              "color": "#E5ECF6",
              "width": 0.5
             },
             "pattern": {
              "fillmode": "overlay",
              "size": 10,
              "solidity": 0.2
             }
            },
            "type": "barpolar"
           }
          ],
          "carpet": [
           {
            "aaxis": {
             "endlinecolor": "#2a3f5f",
             "gridcolor": "white",
             "linecolor": "white",
             "minorgridcolor": "white",
             "startlinecolor": "#2a3f5f"
            },
            "baxis": {
             "endlinecolor": "#2a3f5f",
             "gridcolor": "white",
             "linecolor": "white",
             "minorgridcolor": "white",
             "startlinecolor": "#2a3f5f"
            },
            "type": "carpet"
           }
          ],
          "choropleth": [
           {
            "colorbar": {
             "outlinewidth": 0,
             "ticks": ""
            },
            "type": "choropleth"
           }
          ],
          "contour": [
           {
            "colorbar": {
             "outlinewidth": 0,
             "ticks": ""
            },
            "colorscale": [
             [
              0,
              "#0d0887"
             ],
             [
              0.1111111111111111,
              "#46039f"
             ],
             [
              0.2222222222222222,
              "#7201a8"
             ],
             [
              0.3333333333333333,
              "#9c179e"
             ],
             [
              0.4444444444444444,
              "#bd3786"
             ],
             [
              0.5555555555555556,
              "#d8576b"
             ],
             [
              0.6666666666666666,
              "#ed7953"
             ],
             [
              0.7777777777777778,
              "#fb9f3a"
             ],
             [
              0.8888888888888888,
              "#fdca26"
             ],
             [
              1,
              "#f0f921"
             ]
            ],
            "type": "contour"
           }
          ],
          "contourcarpet": [
           {
            "colorbar": {
             "outlinewidth": 0,
             "ticks": ""
            },
            "type": "contourcarpet"
           }
          ],
          "heatmap": [
           {
            "colorbar": {
             "outlinewidth": 0,
             "ticks": ""
            },
            "colorscale": [
             [
              0,
              "#0d0887"
             ],
             [
              0.1111111111111111,
              "#46039f"
             ],
             [
              0.2222222222222222,
              "#7201a8"
             ],
             [
              0.3333333333333333,
              "#9c179e"
             ],
             [
              0.4444444444444444,
              "#bd3786"
             ],
             [
              0.5555555555555556,
              "#d8576b"
             ],
             [
              0.6666666666666666,
              "#ed7953"
             ],
             [
              0.7777777777777778,
              "#fb9f3a"
             ],
             [
              0.8888888888888888,
              "#fdca26"
             ],
             [
              1,
              "#f0f921"
             ]
            ],
            "type": "heatmap"
           }
          ],
          "heatmapgl": [
           {
            "colorbar": {
             "outlinewidth": 0,
             "ticks": ""
            },
            "colorscale": [
             [
              0,
              "#0d0887"
             ],
             [
              0.1111111111111111,
              "#46039f"
             ],
             [
              0.2222222222222222,
              "#7201a8"
             ],
             [
              0.3333333333333333,
              "#9c179e"
             ],
             [
              0.4444444444444444,
              "#bd3786"
             ],
             [
              0.5555555555555556,
              "#d8576b"
             ],
             [
              0.6666666666666666,
              "#ed7953"
             ],
             [
              0.7777777777777778,
              "#fb9f3a"
             ],
             [
              0.8888888888888888,
              "#fdca26"
             ],
             [
              1,
              "#f0f921"
             ]
            ],
            "type": "heatmapgl"
           }
          ],
          "histogram": [
           {
            "marker": {
             "pattern": {
              "fillmode": "overlay",
              "size": 10,
              "solidity": 0.2
             }
            },
            "type": "histogram"
           }
          ],
          "histogram2d": [
           {
            "colorbar": {
             "outlinewidth": 0,
             "ticks": ""
            },
            "colorscale": [
             [
              0,
              "#0d0887"
             ],
             [
              0.1111111111111111,
              "#46039f"
             ],
             [
              0.2222222222222222,
              "#7201a8"
             ],
             [
              0.3333333333333333,
              "#9c179e"
             ],
             [
              0.4444444444444444,
              "#bd3786"
             ],
             [
              0.5555555555555556,
              "#d8576b"
             ],
             [
              0.6666666666666666,
              "#ed7953"
             ],
             [
              0.7777777777777778,
              "#fb9f3a"
             ],
             [
              0.8888888888888888,
              "#fdca26"
             ],
             [
              1,
              "#f0f921"
             ]
            ],
            "type": "histogram2d"
           }
          ],
          "histogram2dcontour": [
           {
            "colorbar": {
             "outlinewidth": 0,
             "ticks": ""
            },
            "colorscale": [
             [
              0,
              "#0d0887"
             ],
             [
              0.1111111111111111,
              "#46039f"
             ],
             [
              0.2222222222222222,
              "#7201a8"
             ],
             [
              0.3333333333333333,
              "#9c179e"
             ],
             [
              0.4444444444444444,
              "#bd3786"
             ],
             [
              0.5555555555555556,
              "#d8576b"
             ],
             [
              0.6666666666666666,
              "#ed7953"
             ],
             [
              0.7777777777777778,
              "#fb9f3a"
             ],
             [
              0.8888888888888888,
              "#fdca26"
             ],
             [
              1,
              "#f0f921"
             ]
            ],
            "type": "histogram2dcontour"
           }
          ],
          "mesh3d": [
           {
            "colorbar": {
             "outlinewidth": 0,
             "ticks": ""
            },
            "type": "mesh3d"
           }
          ],
          "parcoords": [
           {
            "line": {
             "colorbar": {
              "outlinewidth": 0,
              "ticks": ""
             }
            },
            "type": "parcoords"
           }
          ],
          "pie": [
           {
            "automargin": true,
            "type": "pie"
           }
          ],
          "scatter": [
           {
            "fillpattern": {
             "fillmode": "overlay",
             "size": 10,
             "solidity": 0.2
            },
            "type": "scatter"
           }
          ],
          "scatter3d": [
           {
            "line": {
             "colorbar": {
              "outlinewidth": 0,
              "ticks": ""
             }
            },
            "marker": {
             "colorbar": {
              "outlinewidth": 0,
              "ticks": ""
             }
            },
            "type": "scatter3d"
           }
          ],
          "scattercarpet": [
           {
            "marker": {
             "colorbar": {
              "outlinewidth": 0,
              "ticks": ""
             }
            },
            "type": "scattercarpet"
           }
          ],
          "scattergeo": [
           {
            "marker": {
             "colorbar": {
              "outlinewidth": 0,
              "ticks": ""
             }
            },
            "type": "scattergeo"
           }
          ],
          "scattergl": [
           {
            "marker": {
             "colorbar": {
              "outlinewidth": 0,
              "ticks": ""
             }
            },
            "type": "scattergl"
           }
          ],
          "scattermapbox": [
           {
            "marker": {
             "colorbar": {
              "outlinewidth": 0,
              "ticks": ""
             }
            },
            "type": "scattermapbox"
           }
          ],
          "scatterpolar": [
           {
            "marker": {
             "colorbar": {
              "outlinewidth": 0,
              "ticks": ""
             }
            },
            "type": "scatterpolar"
           }
          ],
          "scatterpolargl": [
           {
            "marker": {
             "colorbar": {
              "outlinewidth": 0,
              "ticks": ""
             }
            },
            "type": "scatterpolargl"
           }
          ],
          "scatterternary": [
           {
            "marker": {
             "colorbar": {
              "outlinewidth": 0,
              "ticks": ""
             }
            },
            "type": "scatterternary"
           }
          ],
          "surface": [
           {
            "colorbar": {
             "outlinewidth": 0,
             "ticks": ""
            },
            "colorscale": [
             [
              0,
              "#0d0887"
             ],
             [
              0.1111111111111111,
              "#46039f"
             ],
             [
              0.2222222222222222,
              "#7201a8"
             ],
             [
              0.3333333333333333,
              "#9c179e"
             ],
             [
              0.4444444444444444,
              "#bd3786"
             ],
             [
              0.5555555555555556,
              "#d8576b"
             ],
             [
              0.6666666666666666,
              "#ed7953"
             ],
             [
              0.7777777777777778,
              "#fb9f3a"
             ],
             [
              0.8888888888888888,
              "#fdca26"
             ],
             [
              1,
              "#f0f921"
             ]
            ],
            "type": "surface"
           }
          ],
          "table": [
           {
            "cells": {
             "fill": {
              "color": "#EBF0F8"
             },
             "line": {
              "color": "white"
             }
            },
            "header": {
             "fill": {
              "color": "#C8D4E3"
             },
             "line": {
              "color": "white"
             }
            },
            "type": "table"
           }
          ]
         },
         "layout": {
          "annotationdefaults": {
           "arrowcolor": "#2a3f5f",
           "arrowhead": 0,
           "arrowwidth": 1
          },
          "autotypenumbers": "strict",
          "coloraxis": {
           "colorbar": {
            "outlinewidth": 0,
            "ticks": ""
           }
          },
          "colorscale": {
           "diverging": [
            [
             0,
             "#8e0152"
            ],
            [
             0.1,
             "#c51b7d"
            ],
            [
             0.2,
             "#de77ae"
            ],
            [
             0.3,
             "#f1b6da"
            ],
            [
             0.4,
             "#fde0ef"
            ],
            [
             0.5,
             "#f7f7f7"
            ],
            [
             0.6,
             "#e6f5d0"
            ],
            [
             0.7,
             "#b8e186"
            ],
            [
             0.8,
             "#7fbc41"
            ],
            [
             0.9,
             "#4d9221"
            ],
            [
             1,
             "#276419"
            ]
           ],
           "sequential": [
            [
             0,
             "#0d0887"
            ],
            [
             0.1111111111111111,
             "#46039f"
            ],
            [
             0.2222222222222222,
             "#7201a8"
            ],
            [
             0.3333333333333333,
             "#9c179e"
            ],
            [
             0.4444444444444444,
             "#bd3786"
            ],
            [
             0.5555555555555556,
             "#d8576b"
            ],
            [
             0.6666666666666666,
             "#ed7953"
            ],
            [
             0.7777777777777778,
             "#fb9f3a"
            ],
            [
             0.8888888888888888,
             "#fdca26"
            ],
            [
             1,
             "#f0f921"
            ]
           ],
           "sequentialminus": [
            [
             0,
             "#0d0887"
            ],
            [
             0.1111111111111111,
             "#46039f"
            ],
            [
             0.2222222222222222,
             "#7201a8"
            ],
            [
             0.3333333333333333,
             "#9c179e"
            ],
            [
             0.4444444444444444,
             "#bd3786"
            ],
            [
             0.5555555555555556,
             "#d8576b"
            ],
            [
             0.6666666666666666,
             "#ed7953"
            ],
            [
             0.7777777777777778,
             "#fb9f3a"
            ],
            [
             0.8888888888888888,
             "#fdca26"
            ],
            [
             1,
             "#f0f921"
            ]
           ]
          },
          "colorway": [
           "#636efa",
           "#EF553B",
           "#00cc96",
           "#ab63fa",
           "#FFA15A",
           "#19d3f3",
           "#FF6692",
           "#B6E880",
           "#FF97FF",
           "#FECB52"
          ],
          "font": {
           "color": "#2a3f5f"
          },
          "geo": {
           "bgcolor": "white",
           "lakecolor": "white",
           "landcolor": "#E5ECF6",
           "showlakes": true,
           "showland": true,
           "subunitcolor": "white"
          },
          "hoverlabel": {
           "align": "left"
          },
          "hovermode": "closest",
          "mapbox": {
           "style": "light"
          },
          "paper_bgcolor": "white",
          "plot_bgcolor": "#E5ECF6",
          "polar": {
           "angularaxis": {
            "gridcolor": "white",
            "linecolor": "white",
            "ticks": ""
           },
           "bgcolor": "#E5ECF6",
           "radialaxis": {
            "gridcolor": "white",
            "linecolor": "white",
            "ticks": ""
           }
          },
          "scene": {
           "xaxis": {
            "backgroundcolor": "#E5ECF6",
            "gridcolor": "white",
            "gridwidth": 2,
            "linecolor": "white",
            "showbackground": true,
            "ticks": "",
            "zerolinecolor": "white"
           },
           "yaxis": {
            "backgroundcolor": "#E5ECF6",
            "gridcolor": "white",
            "gridwidth": 2,
            "linecolor": "white",
            "showbackground": true,
            "ticks": "",
            "zerolinecolor": "white"
           },
           "zaxis": {
            "backgroundcolor": "#E5ECF6",
            "gridcolor": "white",
            "gridwidth": 2,
            "linecolor": "white",
            "showbackground": true,
            "ticks": "",
            "zerolinecolor": "white"
           }
          },
          "shapedefaults": {
           "line": {
            "color": "#2a3f5f"
           }
          },
          "ternary": {
           "aaxis": {
            "gridcolor": "white",
            "linecolor": "white",
            "ticks": ""
           },
           "baxis": {
            "gridcolor": "white",
            "linecolor": "white",
            "ticks": ""
           },
           "bgcolor": "#E5ECF6",
           "caxis": {
            "gridcolor": "white",
            "linecolor": "white",
            "ticks": ""
           }
          },
          "title": {
           "x": 0.05
          },
          "xaxis": {
           "automargin": true,
           "gridcolor": "white",
           "linecolor": "white",
           "ticks": "",
           "title": {
            "standoff": 15
           },
           "zerolinecolor": "white",
           "zerolinewidth": 2
          },
          "yaxis": {
           "automargin": true,
           "gridcolor": "white",
           "linecolor": "white",
           "ticks": "",
           "title": {
            "standoff": 15
           },
           "zerolinecolor": "white",
           "zerolinewidth": 2
          }
         }
        }
       }
      }
     },
     "metadata": {},
     "output_type": "display_data"
    },
    {
     "data": {
      "application/vnd.plotly.v1+json": {
       "config": {
        "plotlyServerURL": "https://plot.ly"
       },
       "data": [
        {
         "coloraxis": "coloraxis",
         "hovertemplate": "x: %{x}<br>y: %{y}<br>color: %{z}<extra></extra>",
         "name": "0",
         "type": "heatmap",
         "x": [
          "TRAPPED IN ELEVATOR",
          "VANDALISM:",
          "FIRE",
          "EVACUATION",
          "HENC",
          "SMOKE",
          "CSE",
          "Operation",
          "Police",
          "Track",
          "Train Control",
          "Traction Power",
          "Vehicle"
         ],
         "xaxis": "x",
         "y": [
          "TRAPPED IN ELEVATOR",
          "VANDALISM:",
          "FIRE",
          "EVACUATION",
          "HENC",
          "SMOKE",
          "CSE",
          "Operation",
          "Police",
          "Track",
          "Train Control",
          "Traction Power",
          "Vehicle"
         ],
         "yaxis": "y",
         "z": [
          [
           1,
           0.39275118708610535,
           0.4248662292957306,
           0.44576695561408997,
           0.43558254837989807,
           0.4062463939189911,
           0.33364129066467285,
           0.3457639217376709,
           0.338589608669281,
           0.31676948070526123,
           0.39141973853111267,
           0.35326844453811646,
           0.356079638004303
          ],
          [
           0.39275118708610535,
           1,
           0.669712483882904,
           0.5148281455039978,
           0.5372418165206909,
           0.5915142297744751,
           0.26030898094177246,
           0.2969089448451996,
           0.3644832968711853,
           0.31655240058898926,
           0.2941233515739441,
           0.2283933460712433,
           0.34209686517715454
          ],
          [
           0.4248662292957306,
           0.669712483882904,
           1,
           0.6617577075958252,
           0.839214026927948,
           0.804060161113739,
           0.438466340303421,
           0.46656787395477295,
           0.466596782207489,
           0.4527875781059265,
           0.42295965552330017,
           0.37060409784317017,
           0.4411332309246063
          ],
          [
           0.44576695561408997,
           0.5148281455039978,
           0.6617577075958252,
           0.9999998807907104,
           0.5680751800537109,
           0.6188253164291382,
           0.43356576561927795,
           0.4829646348953247,
           0.4357953369617462,
           0.4308503270149231,
           0.45792290568351746,
           0.39189285039901733,
           0.4543745815753937
          ],
          [
           0.43558254837989807,
           0.5372418165206909,
           0.839214026927948,
           0.5680751800537109,
           1,
           0.6460607051849365,
           0.4158456027507782,
           0.4301259219646454,
           0.4308916926383972,
           0.41204631328582764,
           0.3943265676498413,
           0.33767169713974,
           0.39863210916519165
          ],
          [
           0.4062463939189911,
           0.5915142297744751,
           0.804060161113739,
           0.6188253164291382,
           0.6460607051849365,
           0.9999999403953552,
           0.4325820803642273,
           0.49685022234916687,
           0.49295249581336975,
           0.5155420303344727,
           0.47376471757888794,
           0.4723055958747864,
           0.49599575996398926
          ],
          [
           0.33364129066467285,
           0.26030898094177246,
           0.438466340303421,
           0.43356576561927795,
           0.4158456027507782,
           0.4325820803642273,
           1,
           0.7347208261489868,
           0.65861976146698,
           0.7521783113479614,
           0.7681724429130554,
           0.6990683674812317,
           0.7909715175628662
          ],
          [
           0.3457639217376709,
           0.2969089448451996,
           0.46656787395477295,
           0.4829646348953247,
           0.4301259219646454,
           0.49685022234916687,
           0.7347208261489868,
           1,
           0.7037476301193237,
           0.7470999360084534,
           0.7545809149742126,
           0.7017332315444946,
           0.781931459903717
          ],
          [
           0.338589608669281,
           0.3644832968711853,
           0.466596782207489,
           0.4357953369617462,
           0.4308916926383972,
           0.49295249581336975,
           0.65861976146698,
           0.7037476301193237,
           1,
           0.6999119520187378,
           0.7329292297363281,
           0.6455976963043213,
           0.682927131652832
          ],
          [
           0.31676948070526123,
           0.31655240058898926,
           0.4527875781059265,
           0.4308503270149231,
           0.41204631328582764,
           0.5155420303344727,
           0.7521783113479614,
           0.7470999360084534,
           0.6999119520187378,
           0.9999999403953552,
           0.8226104974746704,
           0.7780789732933044,
           0.851500391960144
          ],
          [
           0.39141973853111267,
           0.2941233515739441,
           0.42295965552330017,
           0.45792290568351746,
           0.3943265676498413,
           0.47376471757888794,
           0.7681724429130554,
           0.7545809149742126,
           0.7329292297363281,
           0.8226104974746704,
           1,
           0.7608456015586853,
           0.814899206161499
          ],
          [
           0.35326844453811646,
           0.2283933460712433,
           0.37060409784317017,
           0.39189285039901733,
           0.33767169713974,
           0.4723055958747864,
           0.6990683674812317,
           0.7017332315444946,
           0.6455976963043213,
           0.7780789732933044,
           0.7608456015586853,
           0.9999998807907104,
           0.812991201877594
          ],
          [
           0.356079638004303,
           0.34209686517715454,
           0.4411332309246063,
           0.4543745815753937,
           0.39863210916519165,
           0.49599575996398926,
           0.7909715175628662,
           0.781931459903717,
           0.682927131652832,
           0.851500391960144,
           0.814899206161499,
           0.812991201877594,
           1
          ]
         ]
        }
       ],
       "layout": {
        "coloraxis": {
         "colorscale": [
          [
           0,
           "#0d0887"
          ],
          [
           0.1111111111111111,
           "#46039f"
          ],
          [
           0.2222222222222222,
           "#7201a8"
          ],
          [
           0.3333333333333333,
           "#9c179e"
          ],
          [
           0.4444444444444444,
           "#bd3786"
          ],
          [
           0.5555555555555556,
           "#d8576b"
          ],
          [
           0.6666666666666666,
           "#ed7953"
          ],
          [
           0.7777777777777778,
           "#fb9f3a"
          ],
          [
           0.8888888888888888,
           "#fdca26"
          ],
          [
           1,
           "#f0f921"
          ]
         ]
        },
        "margin": {
         "t": 60
        },
        "template": {
         "data": {
          "bar": [
           {
            "error_x": {
             "color": "#2a3f5f"
            },
            "error_y": {
             "color": "#2a3f5f"
            },
            "marker": {
             "line": {
              "color": "#E5ECF6",
              "width": 0.5
             },
             "pattern": {
              "fillmode": "overlay",
              "size": 10,
              "solidity": 0.2
             }
            },
            "type": "bar"
           }
          ],
          "barpolar": [
           {
            "marker": {
             "line": {
              "color": "#E5ECF6",
              "width": 0.5
             },
             "pattern": {
              "fillmode": "overlay",
              "size": 10,
              "solidity": 0.2
             }
            },
            "type": "barpolar"
           }
          ],
          "carpet": [
           {
            "aaxis": {
             "endlinecolor": "#2a3f5f",
             "gridcolor": "white",
             "linecolor": "white",
             "minorgridcolor": "white",
             "startlinecolor": "#2a3f5f"
            },
            "baxis": {
             "endlinecolor": "#2a3f5f",
             "gridcolor": "white",
             "linecolor": "white",
             "minorgridcolor": "white",
             "startlinecolor": "#2a3f5f"
            },
            "type": "carpet"
           }
          ],
          "choropleth": [
           {
            "colorbar": {
             "outlinewidth": 0,
             "ticks": ""
            },
            "type": "choropleth"
           }
          ],
          "contour": [
           {
            "colorbar": {
             "outlinewidth": 0,
             "ticks": ""
            },
            "colorscale": [
             [
              0,
              "#0d0887"
             ],
             [
              0.1111111111111111,
              "#46039f"
             ],
             [
              0.2222222222222222,
              "#7201a8"
             ],
             [
              0.3333333333333333,
              "#9c179e"
             ],
             [
              0.4444444444444444,
              "#bd3786"
             ],
             [
              0.5555555555555556,
              "#d8576b"
             ],
             [
              0.6666666666666666,
              "#ed7953"
             ],
             [
              0.7777777777777778,
              "#fb9f3a"
             ],
             [
              0.8888888888888888,
              "#fdca26"
             ],
             [
              1,
              "#f0f921"
             ]
            ],
            "type": "contour"
           }
          ],
          "contourcarpet": [
           {
            "colorbar": {
             "outlinewidth": 0,
             "ticks": ""
            },
            "type": "contourcarpet"
           }
          ],
          "heatmap": [
           {
            "colorbar": {
             "outlinewidth": 0,
             "ticks": ""
            },
            "colorscale": [
             [
              0,
              "#0d0887"
             ],
             [
              0.1111111111111111,
              "#46039f"
             ],
             [
              0.2222222222222222,
              "#7201a8"
             ],
             [
              0.3333333333333333,
              "#9c179e"
             ],
             [
              0.4444444444444444,
              "#bd3786"
             ],
             [
              0.5555555555555556,
              "#d8576b"
             ],
             [
              0.6666666666666666,
              "#ed7953"
             ],
             [
              0.7777777777777778,
              "#fb9f3a"
             ],
             [
              0.8888888888888888,
              "#fdca26"
             ],
             [
              1,
              "#f0f921"
             ]
            ],
            "type": "heatmap"
           }
          ],
          "heatmapgl": [
           {
            "colorbar": {
             "outlinewidth": 0,
             "ticks": ""
            },
            "colorscale": [
             [
              0,
              "#0d0887"
             ],
             [
              0.1111111111111111,
              "#46039f"
             ],
             [
              0.2222222222222222,
              "#7201a8"
             ],
             [
              0.3333333333333333,
              "#9c179e"
             ],
             [
              0.4444444444444444,
              "#bd3786"
             ],
             [
              0.5555555555555556,
              "#d8576b"
             ],
             [
              0.6666666666666666,
              "#ed7953"
             ],
             [
              0.7777777777777778,
              "#fb9f3a"
             ],
             [
              0.8888888888888888,
              "#fdca26"
             ],
             [
              1,
              "#f0f921"
             ]
            ],
            "type": "heatmapgl"
           }
          ],
          "histogram": [
           {
            "marker": {
             "pattern": {
              "fillmode": "overlay",
              "size": 10,
              "solidity": 0.2
             }
            },
            "type": "histogram"
           }
          ],
          "histogram2d": [
           {
            "colorbar": {
             "outlinewidth": 0,
             "ticks": ""
            },
            "colorscale": [
             [
              0,
              "#0d0887"
             ],
             [
              0.1111111111111111,
              "#46039f"
             ],
             [
              0.2222222222222222,
              "#7201a8"
             ],
             [
              0.3333333333333333,
              "#9c179e"
             ],
             [
              0.4444444444444444,
              "#bd3786"
             ],
             [
              0.5555555555555556,
              "#d8576b"
             ],
             [
              0.6666666666666666,
              "#ed7953"
             ],
             [
              0.7777777777777778,
              "#fb9f3a"
             ],
             [
              0.8888888888888888,
              "#fdca26"
             ],
             [
              1,
              "#f0f921"
             ]
            ],
            "type": "histogram2d"
           }
          ],
          "histogram2dcontour": [
           {
            "colorbar": {
             "outlinewidth": 0,
             "ticks": ""
            },
            "colorscale": [
             [
              0,
              "#0d0887"
             ],
             [
              0.1111111111111111,
              "#46039f"
             ],
             [
              0.2222222222222222,
              "#7201a8"
             ],
             [
              0.3333333333333333,
              "#9c179e"
             ],
             [
              0.4444444444444444,
              "#bd3786"
             ],
             [
              0.5555555555555556,
              "#d8576b"
             ],
             [
              0.6666666666666666,
              "#ed7953"
             ],
             [
              0.7777777777777778,
              "#fb9f3a"
             ],
             [
              0.8888888888888888,
              "#fdca26"
             ],
             [
              1,
              "#f0f921"
             ]
            ],
            "type": "histogram2dcontour"
           }
          ],
          "mesh3d": [
           {
            "colorbar": {
             "outlinewidth": 0,
             "ticks": ""
            },
            "type": "mesh3d"
           }
          ],
          "parcoords": [
           {
            "line": {
             "colorbar": {
              "outlinewidth": 0,
              "ticks": ""
             }
            },
            "type": "parcoords"
           }
          ],
          "pie": [
           {
            "automargin": true,
            "type": "pie"
           }
          ],
          "scatter": [
           {
            "fillpattern": {
             "fillmode": "overlay",
             "size": 10,
             "solidity": 0.2
            },
            "type": "scatter"
           }
          ],
          "scatter3d": [
           {
            "line": {
             "colorbar": {
              "outlinewidth": 0,
              "ticks": ""
             }
            },
            "marker": {
             "colorbar": {
              "outlinewidth": 0,
              "ticks": ""
             }
            },
            "type": "scatter3d"
           }
          ],
          "scattercarpet": [
           {
            "marker": {
             "colorbar": {
              "outlinewidth": 0,
              "ticks": ""
             }
            },
            "type": "scattercarpet"
           }
          ],
          "scattergeo": [
           {
            "marker": {
             "colorbar": {
              "outlinewidth": 0,
              "ticks": ""
             }
            },
            "type": "scattergeo"
           }
          ],
          "scattergl": [
           {
            "marker": {
             "colorbar": {
              "outlinewidth": 0,
              "ticks": ""
             }
            },
            "type": "scattergl"
           }
          ],
          "scattermapbox": [
           {
            "marker": {
             "colorbar": {
              "outlinewidth": 0,
              "ticks": ""
             }
            },
            "type": "scattermapbox"
           }
          ],
          "scatterpolar": [
           {
            "marker": {
             "colorbar": {
              "outlinewidth": 0,
              "ticks": ""
             }
            },
            "type": "scatterpolar"
           }
          ],
          "scatterpolargl": [
           {
            "marker": {
             "colorbar": {
              "outlinewidth": 0,
              "ticks": ""
             }
            },
            "type": "scatterpolargl"
           }
          ],
          "scatterternary": [
           {
            "marker": {
             "colorbar": {
              "outlinewidth": 0,
              "ticks": ""
             }
            },
            "type": "scatterternary"
           }
          ],
          "surface": [
           {
            "colorbar": {
             "outlinewidth": 0,
             "ticks": ""
            },
            "colorscale": [
             [
              0,
              "#0d0887"
             ],
             [
              0.1111111111111111,
              "#46039f"
             ],
             [
              0.2222222222222222,
              "#7201a8"
             ],
             [
              0.3333333333333333,
              "#9c179e"
             ],
             [
              0.4444444444444444,
              "#bd3786"
             ],
             [
              0.5555555555555556,
              "#d8576b"
             ],
             [
              0.6666666666666666,
              "#ed7953"
             ],
             [
              0.7777777777777778,
              "#fb9f3a"
             ],
             [
              0.8888888888888888,
              "#fdca26"
             ],
             [
              1,
              "#f0f921"
             ]
            ],
            "type": "surface"
           }
          ],
          "table": [
           {
            "cells": {
             "fill": {
              "color": "#EBF0F8"
             },
             "line": {
              "color": "white"
             }
            },
            "header": {
             "fill": {
              "color": "#C8D4E3"
             },
             "line": {
              "color": "white"
             }
            },
            "type": "table"
           }
          ]
         },
         "layout": {
          "annotationdefaults": {
           "arrowcolor": "#2a3f5f",
           "arrowhead": 0,
           "arrowwidth": 1
          },
          "autotypenumbers": "strict",
          "coloraxis": {
           "colorbar": {
            "outlinewidth": 0,
            "ticks": ""
           }
          },
          "colorscale": {
           "diverging": [
            [
             0,
             "#8e0152"
            ],
            [
             0.1,
             "#c51b7d"
            ],
            [
             0.2,
             "#de77ae"
            ],
            [
             0.3,
             "#f1b6da"
            ],
            [
             0.4,
             "#fde0ef"
            ],
            [
             0.5,
             "#f7f7f7"
            ],
            [
             0.6,
             "#e6f5d0"
            ],
            [
             0.7,
             "#b8e186"
            ],
            [
             0.8,
             "#7fbc41"
            ],
            [
             0.9,
             "#4d9221"
            ],
            [
             1,
             "#276419"
            ]
           ],
           "sequential": [
            [
             0,
             "#0d0887"
            ],
            [
             0.1111111111111111,
             "#46039f"
            ],
            [
             0.2222222222222222,
             "#7201a8"
            ],
            [
             0.3333333333333333,
             "#9c179e"
            ],
            [
             0.4444444444444444,
             "#bd3786"
            ],
            [
             0.5555555555555556,
             "#d8576b"
            ],
            [
             0.6666666666666666,
             "#ed7953"
            ],
            [
             0.7777777777777778,
             "#fb9f3a"
            ],
            [
             0.8888888888888888,
             "#fdca26"
            ],
            [
             1,
             "#f0f921"
            ]
           ],
           "sequentialminus": [
            [
             0,
             "#0d0887"
            ],
            [
             0.1111111111111111,
             "#46039f"
            ],
            [
             0.2222222222222222,
             "#7201a8"
            ],
            [
             0.3333333333333333,
             "#9c179e"
            ],
            [
             0.4444444444444444,
             "#bd3786"
            ],
            [
             0.5555555555555556,
             "#d8576b"
            ],
            [
             0.6666666666666666,
             "#ed7953"
            ],
            [
             0.7777777777777778,
             "#fb9f3a"
            ],
            [
             0.8888888888888888,
             "#fdca26"
            ],
            [
             1,
             "#f0f921"
            ]
           ]
          },
          "colorway": [
           "#636efa",
           "#EF553B",
           "#00cc96",
           "#ab63fa",
           "#FFA15A",
           "#19d3f3",
           "#FF6692",
           "#B6E880",
           "#FF97FF",
           "#FECB52"
          ],
          "font": {
           "color": "#2a3f5f"
          },
          "geo": {
           "bgcolor": "white",
           "lakecolor": "white",
           "landcolor": "#E5ECF6",
           "showlakes": true,
           "showland": true,
           "subunitcolor": "white"
          },
          "hoverlabel": {
           "align": "left"
          },
          "hovermode": "closest",
          "mapbox": {
           "style": "light"
          },
          "paper_bgcolor": "white",
          "plot_bgcolor": "#E5ECF6",
          "polar": {
           "angularaxis": {
            "gridcolor": "white",
            "linecolor": "white",
            "ticks": ""
           },
           "bgcolor": "#E5ECF6",
           "radialaxis": {
            "gridcolor": "white",
            "linecolor": "white",
            "ticks": ""
           }
          },
          "scene": {
           "xaxis": {
            "backgroundcolor": "#E5ECF6",
            "gridcolor": "white",
            "gridwidth": 2,
            "linecolor": "white",
            "showbackground": true,
            "ticks": "",
            "zerolinecolor": "white"
           },
           "yaxis": {
            "backgroundcolor": "#E5ECF6",
            "gridcolor": "white",
            "gridwidth": 2,
            "linecolor": "white",
            "showbackground": true,
            "ticks": "",
            "zerolinecolor": "white"
           },
           "zaxis": {
            "backgroundcolor": "#E5ECF6",
            "gridcolor": "white",
            "gridwidth": 2,
            "linecolor": "white",
            "showbackground": true,
            "ticks": "",
            "zerolinecolor": "white"
           }
          },
          "shapedefaults": {
           "line": {
            "color": "#2a3f5f"
           }
          },
          "ternary": {
           "aaxis": {
            "gridcolor": "white",
            "linecolor": "white",
            "ticks": ""
           },
           "baxis": {
            "gridcolor": "white",
            "linecolor": "white",
            "ticks": ""
           },
           "bgcolor": "#E5ECF6",
           "caxis": {
            "gridcolor": "white",
            "linecolor": "white",
            "ticks": ""
           }
          },
          "title": {
           "x": 0.05
          },
          "xaxis": {
           "automargin": true,
           "gridcolor": "white",
           "linecolor": "white",
           "ticks": "",
           "title": {
            "standoff": 15
           },
           "zerolinecolor": "white",
           "zerolinewidth": 2
          },
          "yaxis": {
           "automargin": true,
           "gridcolor": "white",
           "linecolor": "white",
           "ticks": "",
           "title": {
            "standoff": 15
           },
           "zerolinecolor": "white",
           "zerolinewidth": 2
          }
         }
        },
        "xaxis": {
         "anchor": "y",
         "constrain": "domain",
         "domain": [
          0,
          1
         ],
         "scaleanchor": "y"
        },
        "yaxis": {
         "anchor": "x",
         "autorange": "reversed",
         "constrain": "domain",
         "domain": [
          0,
          1
         ]
        }
       }
      }
     },
     "metadata": {},
     "output_type": "display_data"
    }
   ],
   "source": [
    "import plotly.express as px\n",
    "from sklearn.decomposition import PCA\n",
    "#3d scatterplot\n",
    "pca3 = PCA(3)\n",
    "threed = pca3.fit_transform(my_classifier.label_embeddings)\n",
    "scatter = pd.DataFrame()\n",
    "type = np.array([\"FLS\", \"FLS\", \"FLS\", \"FLS\", \"FLS\", \"FLS\", \"Delay Management\", \"Delay Management\", \"Delay Management\", \"Delay Management\", \"Delay Management\", \"Delay Management\", \"Delay Management\"])\n",
    "scatter[\"type\"] = type\n",
    "scatter[\"x\"] = threed[:,0]\n",
    "scatter[\"y\"] = threed[:,1]\n",
    "scatter[\"z\"] = threed[:,2]\n",
    "scatter[\"label\"] = list(label_description.keys())\n",
    "fig = px.scatter_3d(scatter, x='x', y='y', z='z', symbol='type',color=\"label\")\n",
    "fig.show()\n",
    "#heatmap\n",
    "labels_similarity = util.pytorch_cos_sim(my_classifier.label_embeddings, my_classifier.label_embeddings)\n",
    "labels_similarity.tolist()\n",
    "fig = px.imshow(labels_similarity.tolist(),\n",
    "                x=list(label_description.keys()),\n",
    "                y=list(label_description.keys()))\n",
    "fig.show()"
   ]
  },
  {
   "attachments": {},
   "cell_type": "markdown",
   "metadata": {},
   "source": [
    "Comments: from the 3d scatterplot, we can observe the FLS labels and delay management labels are clearly separated. "
   ]
  }
 ],
 "metadata": {
  "kernelspec": {
   "display_name": "Python 3",
   "language": "python",
   "name": "python3"
  },
  "language_info": {
   "codemirror_mode": {
    "name": "ipython",
    "version": 3
   },
   "file_extension": ".py",
   "mimetype": "text/x-python",
   "name": "python",
   "nbconvert_exporter": "python",
   "pygments_lexer": "ipython3",
   "version": "3.10.9"
  },
  "orig_nbformat": 4
 },
 "nbformat": 4,
 "nbformat_minor": 2
}
